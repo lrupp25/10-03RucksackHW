{
  "nbformat": 4,
  "nbformat_minor": 0,
  "metadata": {
    "colab": {
      "provenance": [],
      "authorship_tag": "ABX9TyMt4CK6YZCsEetcCrAVhUIC",
      "include_colab_link": true
    },
    "kernelspec": {
      "name": "python3",
      "display_name": "Python 3"
    },
    "language_info": {
      "name": "python"
    }
  },
  "cells": [
    {
      "cell_type": "markdown",
      "metadata": {
        "id": "view-in-github",
        "colab_type": "text"
      },
      "source": [
        "<a href=\"https://colab.research.google.com/github/lrupp25/10-03RucksackHW/blob/main/rucksackHWLucasRupp.ipynb\" target=\"_parent\"><img src=\"https://colab.research.google.com/assets/colab-badge.svg\" alt=\"Open In Colab\"/></a>"
      ]
    },
    {
      "cell_type": "code",
      "source": [
        "#good evening I spent a good amount of time on this only to\n",
        "#realize very late into it that the method creating a list of the equal items was\n",
        "#not correct, my apologies I do not reccomend trying to understand this code"
      ],
      "metadata": {
        "id": "Z45d5Gf4fTxX"
      },
      "execution_count": null,
      "outputs": []
    },
    {
      "cell_type": "code",
      "execution_count": 30,
      "metadata": {
        "colab": {
          "base_uri": "https://localhost:8080/"
        },
        "id": "DHzDp5RwcfDp",
        "outputId": "3a4d2db9-13a9-4fba-9064-d087df379dd6"
      },
      "outputs": [
        {
          "output_type": "execute_result",
          "data": {
            "text/plain": [
              "['lDDWVvlVVQfDMlWjGJTRjQCgTGLCLj\\n',\n",
              " 'ZLZpwzLBhwZhSLBsjntGCtgJRjbnJgSG\\n',\n",
              " 'qppdZzzsdsmZphrNsNwZhllDHLcVVDWFPvFWcWdFlv\\n',\n",
              " 'ztdhgJDBJghmQtPFQPpmbw\\n',\n",
              " 'lVlLRcnfllcfVcccGnSQVLcsTPFbpwsPFspTSqmbpswpbF\\n',\n",
              " 'cCHRGcGcCRGlGrGcVGnrdWHWBDzBNhhQZWWNBhJz\\n',\n",
              " 'NfnSSQpdnRSSpvWdSsjZDGNDjGDwTGTjHG\\n',\n",
              " 'wlPzPqzPFbMmqPCFCJmbsjbHLDDHDZjDjbGHsT\\n',\n",
              " 'gwMlgmtmPcqVVvhVnvcRnn\\n',\n",
              " 'cBNBBCHhbhNhblBcCCvcBHSwTwDQSqRwDQpDRsjHST\\n',\n",
              " 'dPmzMVWdmmMnnZJtZVdqjTSrjTjrpQrsTTVwQRSj\\n',\n",
              " 'qzmZMmdZPtnGqclblGlbGvgBFc\\n',\n",
              " 'ZfpmNDfRhzbbqDnD\\n',\n",
              " 'SFtFjTTZVTFvVTjHrsVvqGBJqhnSSnbJznLGJwJq\\n',\n",
              " 'TjdPPtdMPPWCcZgW\\n',\n",
              " 'qsbmGCsjHNhmhmhzTDznpnlQZlbWlZ\\n',\n",
              " 'LTSSfSvggVVgBgfLtvvtTSczzpWnZQZnlnzpBcnWpQWc\\n',\n",
              " 'FrLvrrrVPgdPftSHHdNsjTHjmGThhm\\n',\n",
              " 'wGQlMjvMwpvjvZjZTZlWjplWJJTggDTgfCnntPgTJPbtPgSP\\n',\n",
              " 'qNhJmcVmdJqhHnPnDNtnPDCg\\n']"
            ]
          },
          "metadata": {},
          "execution_count": 30
        }
      ],
      "source": [
        "with open('rucksack-input') as f:\n",
        "  data = f.readlines()\n",
        "\n",
        "data[0:20]"
      ]
    },
    {
      "cell_type": "code",
      "source": [
        "cdata = []\n",
        "for line in data:\n",
        "  cdata.append(line.strip())\n",
        "\n",
        "cdata[0:20]"
      ],
      "metadata": {
        "colab": {
          "base_uri": "https://localhost:8080/"
        },
        "id": "b6C1_9KMe8b-",
        "outputId": "0731cdd8-578e-4d28-a8a5-db097b73951a"
      },
      "execution_count": 31,
      "outputs": [
        {
          "output_type": "execute_result",
          "data": {
            "text/plain": [
              "['lDDWVvlVVQfDMlWjGJTRjQCgTGLCLj',\n",
              " 'ZLZpwzLBhwZhSLBsjntGCtgJRjbnJgSG',\n",
              " 'qppdZzzsdsmZphrNsNwZhllDHLcVVDWFPvFWcWdFlv',\n",
              " 'ztdhgJDBJghmQtPFQPpmbw',\n",
              " 'lVlLRcnfllcfVcccGnSQVLcsTPFbpwsPFspTSqmbpswpbF',\n",
              " 'cCHRGcGcCRGlGrGcVGnrdWHWBDzBNhhQZWWNBhJz',\n",
              " 'NfnSSQpdnRSSpvWdSsjZDGNDjGDwTGTjHG',\n",
              " 'wlPzPqzPFbMmqPCFCJmbsjbHLDDHDZjDjbGHsT',\n",
              " 'gwMlgmtmPcqVVvhVnvcRnn',\n",
              " 'cBNBBCHhbhNhblBcCCvcBHSwTwDQSqRwDQpDRsjHST',\n",
              " 'dPmzMVWdmmMnnZJtZVdqjTSrjTjrpQrsTTVwQRSj',\n",
              " 'qzmZMmdZPtnGqclblGlbGvgBFc',\n",
              " 'ZfpmNDfRhzbbqDnD',\n",
              " 'SFtFjTTZVTFvVTjHrsVvqGBJqhnSSnbJznLGJwJq',\n",
              " 'TjdPPtdMPPWCcZgW',\n",
              " 'qsbmGCsjHNhmhmhzTDznpnlQZlbWlZ',\n",
              " 'LTSSfSvggVVgBgfLtvvtTSczzpWnZQZnlnzpBcnWpQWc',\n",
              " 'FrLvrrrVPgdPftSHHdNsjTHjmGThhm',\n",
              " 'wGQlMjvMwpvjvZjZTZlWjplWJJTggDTgfCnntPgTJPbtPgSP',\n",
              " 'qNhJmcVmdJqhHnPnDNtnPDCg']"
            ]
          },
          "metadata": {},
          "execution_count": 31
        }
      ]
    },
    {
      "cell_type": "code",
      "source": [
        "test2 = []\n",
        "for line in cdata:\n",
        " if len(line)%2 != 0:\n",
        "  test2.append(len(line)%2)\n",
        "test2\n",
        "\n",
        "#checking if lengths are even or not\n",
        "\n"
      ],
      "metadata": {
        "colab": {
          "base_uri": "https://localhost:8080/"
        },
        "id": "8sEX3PRJe8nl",
        "outputId": "93223209-604e-4757-eb63-a42d182fa44a"
      },
      "execution_count": 32,
      "outputs": [
        {
          "output_type": "execute_result",
          "data": {
            "text/plain": [
              "[]"
            ]
          },
          "metadata": {},
          "execution_count": 32
        }
      ]
    },
    {
      "cell_type": "code",
      "source": [
        "b = \"wooploop\"\n",
        "s, s2 = b[:len(b)//2], b[len(b)//2:]\n",
        "s, s2"
      ],
      "metadata": {
        "colab": {
          "base_uri": "https://localhost:8080/"
        },
        "id": "e3zRPxOye8st",
        "outputId": "647ab562-0104-4059-f0cd-35d388c7fab5"
      },
      "execution_count": 33,
      "outputs": [
        {
          "output_type": "execute_result",
          "data": {
            "text/plain": [
              "('woop', 'loop')"
            ]
          },
          "metadata": {},
          "execution_count": 33
        }
      ]
    },
    {
      "cell_type": "code",
      "source": [
        "values = {chr(i): i + 1 for i in range(ord(\"a\"), ord(\"a\") + 26)}\n",
        "values2 = {chr(i): i + 1 for i in range(ord(\"A\"), ord(\"A\")+26)}\n",
        "for k in values:\n",
        "  values[k] -= 97\n",
        "\n",
        "for i in values2:\n",
        "  values2[i] -= 39\n",
        "\n",
        "test = values | values2\n",
        "\n",
        "for a in test:\n",
        "  test[a] = str(test[a])\n",
        "\n",
        "test\n",
        "\n",
        "\n",
        "\n",
        "\n",
        "\n"
      ],
      "metadata": {
        "id": "40LV7vQofiSK",
        "colab": {
          "base_uri": "https://localhost:8080/"
        },
        "outputId": "c68e4887-b3db-44ee-a981-c8f43a08e0bd"
      },
      "execution_count": 45,
      "outputs": [
        {
          "output_type": "execute_result",
          "data": {
            "text/plain": [
              "{'a': '1',\n",
              " 'b': '2',\n",
              " 'c': '3',\n",
              " 'd': '4',\n",
              " 'e': '5',\n",
              " 'f': '6',\n",
              " 'g': '7',\n",
              " 'h': '8',\n",
              " 'i': '9',\n",
              " 'j': '10',\n",
              " 'k': '11',\n",
              " 'l': '12',\n",
              " 'm': '13',\n",
              " 'n': '14',\n",
              " 'o': '15',\n",
              " 'p': '16',\n",
              " 'q': '17',\n",
              " 'r': '18',\n",
              " 's': '19',\n",
              " 't': '20',\n",
              " 'u': '21',\n",
              " 'v': '22',\n",
              " 'w': '23',\n",
              " 'x': '24',\n",
              " 'y': '25',\n",
              " 'z': '26',\n",
              " 'A': '27',\n",
              " 'B': '28',\n",
              " 'C': '29',\n",
              " 'D': '30',\n",
              " 'E': '31',\n",
              " 'F': '32',\n",
              " 'G': '33',\n",
              " 'H': '34',\n",
              " 'I': '35',\n",
              " 'J': '36',\n",
              " 'K': '37',\n",
              " 'L': '38',\n",
              " 'M': '39',\n",
              " 'N': '40',\n",
              " 'O': '41',\n",
              " 'P': '42',\n",
              " 'Q': '43',\n",
              " 'R': '44',\n",
              " 'S': '45',\n",
              " 'T': '46',\n",
              " 'U': '47',\n",
              " 'V': '48',\n",
              " 'W': '49',\n",
              " 'X': '50',\n",
              " 'Y': '51',\n",
              " 'Z': '52'}"
            ]
          },
          "metadata": {},
          "execution_count": 45
        }
      ]
    },
    {
      "cell_type": "code",
      "source": [
        "lee, lee2 = '',''\n",
        "answer = []\n",
        "for line in cdata:\n",
        "   lee, lee2 = line[:len(line)//2], line[len(line)//2:]\n",
        "   for lee in lee2:\n",
        "     answer.append(lee)\n",
        "\n",
        "\n",
        "len(answer)"
      ],
      "metadata": {
        "colab": {
          "base_uri": "https://localhost:8080/"
        },
        "id": "c82Ws7EbopJH",
        "outputId": "111b7c3f-8742-4155-bf0c-f3bbf8d32cca"
      },
      "execution_count": 74,
      "outputs": [
        {
          "output_type": "execute_result",
          "data": {
            "text/plain": [
              "4740"
            ]
          },
          "metadata": {},
          "execution_count": 74
        }
      ]
    },
    {
      "cell_type": "code",
      "source": [],
      "metadata": {
        "id": "PpuPpObjfRhZ"
      },
      "execution_count": null,
      "outputs": []
    },
    {
      "cell_type": "code",
      "source": [
        "answer1 = answer\n",
        "for index, data in enumerate(answer1):\n",
        "  for key, value in test.items():\n",
        "    if key in data:\n",
        "     answer1[index]=data.replace(key, value)\n"
      ],
      "metadata": {
        "id": "YH95_qpLKlAY"
      },
      "execution_count": 70,
      "outputs": []
    },
    {
      "cell_type": "code",
      "source": [
        "sumof = 0\n",
        "for line in answer1:\n",
        "  sumof += int(line)\n",
        "\n",
        "sumof\n",
        "\n",
        "#this is absolutely not the most efficient way of doing it but I got there eventually"
      ],
      "metadata": {
        "colab": {
          "base_uri": "https://localhost:8080/"
        },
        "id": "tXtiy-YCSafP",
        "outputId": "a14bd5a3-afac-4dff-f798-07ab4869ab21"
      },
      "execution_count": 52,
      "outputs": [
        {
          "output_type": "execute_result",
          "data": {
            "text/plain": [
              "124267"
            ]
          },
          "metadata": {},
          "execution_count": 52
        }
      ]
    },
    {
      "cell_type": "code",
      "source": [
        "throwaway = cdata\n",
        "laba = []\n",
        "for line in throwaway:\n",
        " for throwaway[i] in throwaway[i+1] in throwaway[line+2]:\n",
        "  laba.append(throwaway[line])\n",
        "  del(throwaway[line:line+2])\n",
        "laba"
      ],
      "metadata": {
        "colab": {
          "base_uri": "https://localhost:8080/",
          "height": 246
        },
        "id": "ztvu7iv0O1yJ",
        "outputId": "ced7a42d-d0ab-4952-b977-6452dee9b6cd"
      },
      "execution_count": 60,
      "outputs": [
        {
          "output_type": "error",
          "ename": "TypeError",
          "evalue": "ignored",
          "traceback": [
            "\u001b[0;31m---------------------------------------------------------------------------\u001b[0m",
            "\u001b[0;31mTypeError\u001b[0m                                 Traceback (most recent call last)",
            "\u001b[0;32m<ipython-input-60-531939e6dced>\u001b[0m in \u001b[0;36m<cell line: 3>\u001b[0;34m()\u001b[0m\n\u001b[1;32m      2\u001b[0m \u001b[0mlaba\u001b[0m \u001b[0;34m=\u001b[0m \u001b[0;34m[\u001b[0m\u001b[0;34m]\u001b[0m\u001b[0;34m\u001b[0m\u001b[0;34m\u001b[0m\u001b[0m\n\u001b[1;32m      3\u001b[0m \u001b[0;32mfor\u001b[0m \u001b[0mline\u001b[0m \u001b[0;32min\u001b[0m \u001b[0mthrowaway\u001b[0m\u001b[0;34m:\u001b[0m\u001b[0;34m\u001b[0m\u001b[0;34m\u001b[0m\u001b[0m\n\u001b[0;32m----> 4\u001b[0;31m  \u001b[0;32mfor\u001b[0m \u001b[0mthrowaway\u001b[0m\u001b[0;34m[\u001b[0m\u001b[0mline\u001b[0m\u001b[0;34m+\u001b[0m\u001b[0;36m1\u001b[0m\u001b[0;34m]\u001b[0m \u001b[0;32min\u001b[0m \u001b[0mthrowaway\u001b[0m\u001b[0;34m[\u001b[0m\u001b[0mline\u001b[0m\u001b[0;34m+\u001b[0m\u001b[0;36m1\u001b[0m\u001b[0;34m]\u001b[0m \u001b[0;32min\u001b[0m \u001b[0mthrowaway\u001b[0m\u001b[0;34m[\u001b[0m\u001b[0mline\u001b[0m\u001b[0;34m+\u001b[0m\u001b[0;36m2\u001b[0m\u001b[0;34m]\u001b[0m\u001b[0;34m:\u001b[0m\u001b[0;34m\u001b[0m\u001b[0;34m\u001b[0m\u001b[0m\n\u001b[0m\u001b[1;32m      5\u001b[0m   \u001b[0mlaba\u001b[0m\u001b[0;34m.\u001b[0m\u001b[0mappend\u001b[0m\u001b[0;34m(\u001b[0m\u001b[0mthrowaway\u001b[0m\u001b[0;34m[\u001b[0m\u001b[0mline\u001b[0m\u001b[0;34m]\u001b[0m\u001b[0;34m)\u001b[0m\u001b[0;34m\u001b[0m\u001b[0;34m\u001b[0m\u001b[0m\n\u001b[1;32m      6\u001b[0m   \u001b[0;32mdel\u001b[0m\u001b[0;34m(\u001b[0m\u001b[0mthrowaway\u001b[0m\u001b[0;34m[\u001b[0m\u001b[0mline\u001b[0m\u001b[0;34m:\u001b[0m\u001b[0mline\u001b[0m\u001b[0;34m+\u001b[0m\u001b[0;36m2\u001b[0m\u001b[0;34m]\u001b[0m\u001b[0;34m)\u001b[0m\u001b[0;34m\u001b[0m\u001b[0;34m\u001b[0m\u001b[0m\n",
            "\u001b[0;31mTypeError\u001b[0m: can only concatenate str (not \"int\") to str"
          ]
        }
      ]
    },
    {
      "cell_type": "code",
      "source": [
        "cdata"
      ],
      "metadata": {
        "colab": {
          "base_uri": "https://localhost:8080/"
        },
        "id": "GnzxOMLOYS-e",
        "outputId": "96e96bfa-8a9e-4ae4-f2fc-e5f458e56685"
      },
      "execution_count": 62,
      "outputs": [
        {
          "output_type": "execute_result",
          "data": {
            "text/plain": [
              "['lDDWVvlVVQfDMlWjGJTRjQCgTGLCLj',\n",
              " 'ZLZpwzLBhwZhSLBsjntGCtgJRjbnJgSG',\n",
              " 'qppdZzzsdsmZphrNsNwZhllDHLcVVDWFPvFWcWdFlv',\n",
              " 'ztdhgJDBJghmQtPFQPpmbw',\n",
              " 'lVlLRcnfllcfVcccGnSQVLcsTPFbpwsPFspTSqmbpswpbF',\n",
              " 'cCHRGcGcCRGlGrGcVGnrdWHWBDzBNhhQZWWNBhJz',\n",
              " 'NfnSSQpdnRSSpvWdSsjZDGNDjGDwTGTjHG',\n",
              " 'wlPzPqzPFbMmqPCFCJmbsjbHLDDHDZjDjbGHsT',\n",
              " 'gwMlgmtmPcqVVvhVnvcRnn',\n",
              " 'cBNBBCHhbhNhblBcCCvcBHSwTwDQSqRwDQpDRsjHST',\n",
              " 'dPmzMVWdmmMnnZJtZVdqjTSrjTjrpQrsTTVwQRSj',\n",
              " 'qzmZMmdZPtnGqclblGlbGvgBFc',\n",
              " 'ZfpmNDfRhzbbqDnD',\n",
              " 'SFtFjTTZVTFvVTjHrsVvqGBJqhnSSnbJznLGJwJq',\n",
              " 'TjdPPtdMPPWCcZgW',\n",
              " 'qsbmGCsjHNhmhmhzTDznpnlQZlbWlZ',\n",
              " 'LTSSfSvggVVgBgfLtvvtTSczzpWnZQZnlnzpBcnWpQWc',\n",
              " 'FrLvrrrVPgdPftSHHdNsjTHjmGThhm',\n",
              " 'wGQlMjvMwpvjvZjZTZlWjplWJJTggDTgfCnntPgTJPbtPgSP',\n",
              " 'qNhJmcVmdJqhHnPnDNtnPDCg',\n",
              " 'LrrchqhRdLVzRdmhJcFFQWGGMjpGlvZzlQQv',\n",
              " 'ZqZMbZMfQZptpjlF',\n",
              " 'PJCggvHlwWHvSSvCJNvSPvDBtFDQThFQjtRQhhFTsVThQtsF',\n",
              " 'PwWCnBBCClcMMznMdG',\n",
              " 'rNwwQJrJrnQswrQrRRwCShBSLndZpdnhpGFSdhBp',\n",
              " 'PvzzWVzbclGFhLFGdZll',\n",
              " 'VWjPWvbjcVbVcGVzjcgzgwQQRRRrqwRJQwwstCRR',\n",
              " 'zjBMMzznjbssrBrMBbvHDmrlprlrpwGpwQDV',\n",
              " 'LhRwPPTLLNRZqScPWPWPTSmQvQQDGGdQHVDlmVpQGD',\n",
              " 'NtfhNwhLLNwRwRNcTBgnJMCBzsBFjsJfCz',\n",
              " 'jZjsWNDlPfClfMlM',\n",
              " 'GjqbVSqjhgvgSVSBCPmMmCmfpwTBfh',\n",
              " 'nGbjqtqcGzsLDFcJLs',\n",
              " 'ZQtmZdtdQcLndRncdQQLFjWWDHNPfhpnqhqsHNNDnpHs',\n",
              " 'TrMBGbJTwwlmDPPPWshWHfJq',\n",
              " 'wmVzbrwbwvBlBlVGtSVLSdFjdFtdjLVR',\n",
              " 'LBhZFhRPbbnPddMdPPlD',\n",
              " 'NQszQNczlCSlJSsg',\n",
              " 'mwmrVQwpQVWwTlvBpHHHFhZj',\n",
              " 'pzzDffWpQBzMpHvzMfRnTNhZdrdBcnLrcdrTLZ',\n",
              " 'msgJgtmbgmqJJcdrGcJjGn',\n",
              " 'bSVPgwntmVnngQWvWSSMpMMHWH',\n",
              " 'gmGMDHHdpngdrGmGcwbNCCnNcbbCSLwL',\n",
              " 'zQPPPffQQlVlsPFQFzQchZZbLZNVcbqbNqbZgq',\n",
              " 'PRjQzfRgRfjQBTfJQTlPFRHWmmvmWHGWrWvWWtjrdHpD',\n",
              " 'vfrHfqrLfLwwNHdvnthpnnFFpstn',\n",
              " 'gWcMclgmcRcWgDMWgBgGGFnntqQnGphdQhtbdFnh',\n",
              " 'qRWmRDlcDqWBBPwPNrZHrwSHjTfr',\n",
              " 'HVVbhdCdndhZSShMzRrzSM',\n",
              " 'qBjWqvtWvDJjTjjGJtJtnqBvZMrgSGZlgfSgSRrMQGQRMgMR',\n",
              " 'wmwtJsvjtTJwsNnVsHpdnsHdds',\n",
              " 'FCJNZDMPNCNvzqQJHqzGqv',\n",
              " 'hwjWcSTHwRpSWnQtGgQgGStgQQ',\n",
              " 'WpwhRHTRpcLRjwlwwTWBcWdlFbCrsPrrLCMDrZCFsCDPrZPM',\n",
              " 'DJjjShSGhGDSNdpfrWWcLFzrDWrDlF',\n",
              " 'wtqZgwMBBPVMCBPQggMwqMMzfLlWrWLLzsWcFzTzVTzLss',\n",
              " 'tgtwQqZBQQZbBZtPgbHpNJnJShcmJppSHh',\n",
              " 'tHrWmrdzzdHflmHmHrSmqswlqhqNgssMhGgghssn',\n",
              " 'pJcCBPPQPCcPpRpgwZNZBMnDhMsMBw',\n",
              " 'RJCvRRVcQpjLpCJPWrftWvSnrFffWbrz',\n",
              " 'jzlwwzDzTlQftzlWjfrBGBgVHBgpgBtPGVtP',\n",
              " 'vhsshbMbNhZpgZrrrpHcZr',\n",
              " 'qhdMqqSLSSbSJMqqSwwjzFzmjFQQFfHzLQ',\n",
              " 'gDhHNnphPPPNCprHFhHFdbdczzjNqbzjVcdbQTcc',\n",
              " 'tVJWBtVVZRWtjQbctjqcdj',\n",
              " 'RfvlGLvLLLlLMZBmZBRhHDVPnVHPHCgFCnhlpn',\n",
              " 'RFhZFTZvFdjlqqlRNCPwSSPCNPBSwC',\n",
              " 'spHGswpnWgJLLJCPGg',\n",
              " 'cWpDrVVbWfWbVfbsdQqcQzjjzlhdwqll',\n",
              " 'WWJPpQwWdQQPNpQvqlvvCblbvbvwLL',\n",
              " 'cmRMBMBTbSrTDRMcGBscTGfLZfvfvsCqhLlChZlLhfsC',\n",
              " 'TVbzGSMGVVgdpdPJpQ',\n",
              " 'lwsFfsZWGsGmsnlGQcPdBBdMbcPHfcCN',\n",
              " 'RVvSLtSTrTVrTFPcBdCHRcPHbNNb',\n",
              " 'LrqzLFTLrgSJLLLtTgJjVJvWlDDnjDWnWWlhlGWGhZWZhn',\n",
              " 'GQJCMGbrMbbCGrrGtcwhctGjNSvWpVVVRjNJqVqqBBRRJq',\n",
              " 'ssnglHHsnHzFmHnzHFPVDDSDRgVjvWDNpSSNpB',\n",
              " 'PZfHmndFzzfPZPZfCdwchwGcbwwhCdMW',\n",
              " 'DRGVQGmGQVnnGVmnnFpNbzCNRbRttCbpLztC',\n",
              " 'qdqHBdjTqPlcTchBjJMvvvLtLCcLggLvtmgb',\n",
              " 'fqhlHjdwqjjJTwldDmDmrGrrWFrDGZwD',\n",
              " 'wFscLVLrrVhwWgZPrcswgZWFTnQdtTMnpQtjdpqdqvqQMt',\n",
              " 'JRbHmmbDDSzDmDNpTnBBdpMHQtqtvp',\n",
              " 'JmCCbvRGzbbGJsLgZsVhgLwwGW',\n",
              " 'WDQwsBzWbBlMjdVpzTJVMj',\n",
              " 'fncRngntnPCpJgmdFpFWgm',\n",
              " 'RGZPZtZCfvWSvRZGSLvPccHwsrHbwHLrwHHQQsBDbllB',\n",
              " 'PlNZhwgpppccgrqVvttbBfrlls',\n",
              " 'CznSDDdHDRnRStVsVfDvfrtDZq',\n",
              " 'QCddZFSFLTmccQmw',\n",
              " 'rnwfVnclGPPFfSPSqBWZvvBBWqZvqWFh',\n",
              " 'zLgLQgJssspmQTJmsgjZNmqqzqdHbthDdDDWHbhqBBqb',\n",
              " 'QgmmjpNgCCZpjJLpmTrfrSrVRPfnrClfPwnS',\n",
              " 'zDzPPwvwqvPPBqjnqvDqBffSfcSNJpNVfccLLNffBR',\n",
              " 'MdTMZbgbmmTWGGdmssRCSNsSNVVVcJsNppsC',\n",
              " 'MJghbhHhbtMMdWhbJhHgdmWvnFzHDQPDjQDvHHwvQwvzwF',\n",
              " 'gGbqqRDrqDMdcBpVlpMG',\n",
              " 'WzhPCnWfqMcpBnnNLZ',\n",
              " 'fCqPHHJCfJhStwhWHbrrgvjFgbQbSbmbQs',\n",
              " 'fhcchnSpfsNpjVVqnqjrGHqq',\n",
              " 'zzlFLlPLWdggFqRBjqsrHrBTzz',\n",
              " 'FDwgFLZWlbbchpwshsCNcw',\n",
              " 'CmPlqqRJDHRDDsFv',\n",
              " 'MfSpBQQNNfBfrfVZsmVVdzzrHZmH',\n",
              " 'QSBSLSgmQBmwPCtgClhjPP',\n",
              " 'NPNsHHHNsPsvHwDqgpwlqt',\n",
              " 'rTRWSRrWRzgTzZrRVVLRQzjpbtmmGLlGDDbDwwmtblvDvw',\n",
              " 'nRzSRrjSVRrnjrgZfrfzNdPdMPBfBMhJhhBcPhcJ',\n",
              " 'LLhzQSDHDHNpNzHHJBQBMvMBqBRJBBqw',\n",
              " 'rmbdtmlWCCMnvJrn',\n",
              " 'FTVdmVgtjdtbWsvjjmdLSDcgHpDzShzDLPLSHh',\n",
              " 'VFFJQVWHtQVHHWbJRRRHwqPvpMLpLZZWLwlwMllL',\n",
              " 'jsngsdGssLvlqnZqZw',\n",
              " 'hhmfDjDsmDNjjNRNVqNVJRtQHJ',\n",
              " 'jvTnffrgFTwvqMzqGdMMSW',\n",
              " 'sPbCtCCQQLffZGdWNLWDDzLzGM',\n",
              " 'PQPBBtfZCZsmJPPplwwmTwpcTcmcgj',\n",
              " 'NBmBRCCsBTRNTndGdswnlwvwnw',\n",
              " 'fvbqrbPLqpGwScGGwbbb',\n",
              " 'HJDPJFJLJtpJHCvCFBBBBNNWvF',\n",
              " 'HJHgNQJBSlRRbJDRDb',\n",
              " 'RptsfnshscWMLMZDZp',\n",
              " 'njmrnPznnsTRTtPzFzRTswgQwqvVVwBNwwvjqCHqHq',\n",
              " 'CBMgBJCTNgQcsQspPpWjRrWrsWsn',\n",
              " 'mwLvHLGbdHbGzSHmvmvHzrhjjjPptjWGqZPPZhPRWWGP',\n",
              " 'vbbrLFwLFDJFDfFN',\n",
              " 'TnPvZSnQgQPHnnnQvgMSWppWNfWRpWfMtthMNDhN',\n",
              " 'wLJmLBmGFBFdLBbCBbVCVlsGsWhtHqthRRhqhtHHGqqf',\n",
              " 'LmHLbCjjBLVZzZSgzQgjrc',\n",
              " 'wdSwfpBhtFbStpftjSVhBwFrGrsQnQgnGrQmqCPmDrmmDb',\n",
              " 'zJvzLJLNZNscLzNHHLrGPvGGPrDDqGgDPDgC',\n",
              " 'RWsNNRMsHTHLHTlMczLHZLWtpFwfpthSjFtwFhjSVplwtj',\n",
              " 'QbrBDLGGRJMQJQJDbQbGvNscWNnTdvnvtnLcccvl',\n",
              " 'fqZgpVPZHPmfgPPjBFgcscvNNccdddtdNvdFTs',\n",
              " 'CgPpghfjjPgVmfBMMCRJQQJzJBwM',\n",
              " 'jLWDqLdWdwLfHwJwzSSfwS',\n",
              " 'gCgRRltMrlrCcCMzcBSVfZQfVNZNVSBVNNNh',\n",
              " 'gMrcPntccGgzgTMlMPrtDWFvLqqdLnDsmLLFFqvp',\n",
              " 'ttHJNccRRwmnsnHnHWMSwqfgvgfwSQZfQf',\n",
              " 'ShpLhhzTPBMpQqQgvM',\n",
              " 'zhbFjVdrjFjVljrVbdPddSTPHNssHnHlRNCHtRtsctJtGsRJ',\n",
              " 'zMVTscVhQhGGhClv',\n",
              " 'LfMJmgSBpLRfHmBPgpmJPSBdvQNtlHvrHvNNtNNNClGdGN',\n",
              " 'JFJmmSFFbFFbRJPBgFPmSBPMzzWWTDjjTsTqqwjVWbjjVVsZ',\n",
              " 'HZpCnwnggfFggbgLDcTb',\n",
              " 'SjvWjGzNGGzRjSGmMcLhvhMhFMCcmv',\n",
              " 'rjrVJNjVrzVNPrwtPwPCHBPB',\n",
              " 'SWwFbTzsSjPzpjFbsWPTWTcWLCLgLgLBZjGVDjCVBBgCBGCZ',\n",
              " 'lrJJttQcHqrHrvggHVBgBLffBC',\n",
              " 'lnhhcqNRJWzhTdsWFz',\n",
              " 'vzldvzlclbFjFvmtjZ',\n",
              " 'DDNMNStMsSsGnhSMwQjTQVgVbwMbVTTQ',\n",
              " 'DsDSCNNGpLtsNLpnNsqLppDzCBcdJHBzllcJfzJBPBdBlR',\n",
              " 'qWNfDvffbJBFDpNfmpbwhGhwjLgTrGwhbGGwrj',\n",
              " 'ZctMVCcVVQtTpthlnLtppw',\n",
              " 'QMcRSPMZcpCZqDFNRFHNJFFF',\n",
              " 'RmztpGSssNMzJRpCvqsCrqdHCBlBdw',\n",
              " 'gffPFDcqVbgqWgjlPlwCCrdBdllnBH',\n",
              " 'cFFZcbcqfQhgbcNJZRSMRtmNJptS',\n",
              " 'PZthPBWlPNPSPtmHHggFGgBJJbwg',\n",
              " 'qqzDvLLrfDpvvDLzqvnLzqpzbrCRGJRHwFCmHRwGwgwbbRCj',\n",
              " 'nnpnMfpMLTVqfmthmsMNSScMhS',\n",
              " 'dflvbdvpfffzpnNLNbWqtblqHjmVhVRhHrwrwrswhHnjsmwh',\n",
              " 'gSGMdMcJBgMTGPSPDVZhHhHZmDZhrwwjVm',\n",
              " 'CPJQGBGGPcSTFcTCScFtLLdWvptWLbNpNzvWQL',\n",
              " 'WThqhvvRDJDRhwcrscNDNFgDHNct',\n",
              " 'fnrZVnfVjrSGGLzZbnLzZLjVHstHHHQtgQbPpPcpHsscsFpN',\n",
              " 'SVjZSzZdndVCdSSZmTRvMWBRWvvWlrvmhJ',\n",
              " 'BcllhPPmMMBPcbRwgQtgHHgtmwgzmt',\n",
              " 'rpLqbrbTnNvqjLqLNqrNLvHzDtwpDCzFwggttFFHCQFQ',\n",
              " 'LrrrNLqjZSTsZZsvjbLjPhcBBlBsBcGPPcPlPVGP',\n",
              " 'HHhrggvSHDtCDsfF',\n",
              " 'ZMpLblppNZBDBwLzLLpMssCntfWdCFCnfCCtRNtq',\n",
              " 'lbmJlzzLMPMmlBzhSJVccSJhTvSTDh',\n",
              " 'sdjBBFqHscFnHTzCnRSnzgVTlC',\n",
              " 'LpWWtvZfrpbLpZpWftprLCCNMzCZMmmzTNNTmSSVSM',\n",
              " 'pLVtrtbGvpbpGLfPddHBscBQJJGcwsQq',\n",
              " 'hLcLnVVcfQBLZPVZnThfVVmjqjHNjgvNfdvpNdrrvvfp',\n",
              " 'lbRlWFHJtGNGpqmrqrCN',\n",
              " 'DzRRDFsbDtFtDJtWRztzJZVBQMhTsLhQZMZHVLcLcP',\n",
              " 'WgbdmgMmWDDvcPcpbz',\n",
              " 'jffpllHSpHRptRRGRntSVwvLSCCJDzcCcDLvCzPP',\n",
              " 'tRFrnlGfZrQpBpgQQsgF',\n",
              " 'TpbBZbCCHCGZNHbzGqgFdNlcFSdNlStSqg',\n",
              " 'wvWnWwLCPjJPJhMWtWdMfFSMgcdM',\n",
              " 'hhmvmJrJLJJJPvvhDjswCRGHHrHzBBHGVRQBzRRQ',\n",
              " 'zChCSBbpSsQscDHHQh',\n",
              " 'LNJJRgGltJDvfcrfgHfZ',\n",
              " 'lJNRGlLnNJtTGVMlFTbwSWqjBbzWWHSW',\n",
              " 'NDTJQDVwCTCJhVGDLfbBbBfbGqbfHBfBHb',\n",
              " 'lMgMrggMrmmtzMcgWdlmMlbsRjSRBsTRBWsSHSBTHRBj',\n",
              " 'cMPlgztzrPMznnMPpgddgdzpwDDNNwhNFCTwNZQFLTVTwV',\n",
              " 'ZgshQgzQnnwMtDwBwv',\n",
              " 'SFWFlFZRRcmlWmWRBCDwvwwftBtLmfLf',\n",
              " 'PjRFdTdWGddrGlPjcsJZpJzTqhzQJzNHhz',\n",
              " 'PgHQgddszgdGPWpMjljMcj',\n",
              " 'bSqTqnZLnDJSmnmZmtllGsnVtnWjGGWtjl',\n",
              " 'fqSLDbRSfBdHsRwsFdHd',\n",
              " 'RwHWZpCWhHvwvHCBMBpJMJGPJJnJgc',\n",
              " 'lztljTFljRRBBzBnBMnJMS',\n",
              " 'QbRljFtQfljbbFqNFrdZVrZfdCCwVwvddH',\n",
              " 'sHzztVzLTgnssPggHHsnCtzBmfBMrMccBBmqmrBqBCRqMf',\n",
              " 'ZhDQJhFDqjmSMrRF',\n",
              " 'dZpwDhNhhZpQJdDQpwnsGttGwLtRRTLRts',\n",
              " 'QJNhClVgPTTtPNCJJCtJhlNPZZRVZfvfzZzmvvzvsmZsvmzR',\n",
              " 'blBWBpdbLBDqBpszzffRsvdzjvvd',\n",
              " 'BLWpqBbqnDHqBbGlnWGBPcPJcHTTPrhtgNtCtgPc',\n",
              " 'jWVJqVwgsJcHCVlQVVQNBp',\n",
              " 'vGhGhTPtSSNCddSBCH',\n",
              " 'ZCCDtbDftZsqrrcnWW',\n",
              " 'hJThjThhVzVTZZwnNZRdgmzt',\n",
              " 'lrbSSddsrbPQpsvNtgPRmtHmvtnR',\n",
              " 'GQrspWdSGbDcsFFLBhCGVBjhjj',\n",
              " 'rHdlHdZDlTcflcNfcrCgcTWWpWQFsRWsFjRCsCjWCmhF',\n",
              " 'BnqbvQPLGLBPwqGmsVshsSWShGms',\n",
              " 'PzzPPQJPMJtJbbznPnDdrHlNldDNltrgtfDg',\n",
              " 'SmmMQhPSlmTwPpmnpllMSMPrccFDqFrDFGgqrDcCwfDgwq',\n",
              " 'bVdLLNvdQWVbJbQLVGfGDGfDgrFrqgqJgg',\n",
              " 'vjjWsbQdBsszhsHlhhPPSHsM',\n",
              " 'PqzJqNzsJgsgNqPdLJPPPNVpMMVWGlFWNFGMpWppGF',\n",
              " 'ZnZBjttQZcQZRTQDjQwGFlWMlGdGWVrWWlGn',\n",
              " 'ZRDBRSZDSdSLsqJHfSbzzL',\n",
              " 'rljJqtZlJqlJcvBNJBNQfQ',\n",
              " 'TVMWznvPMTFWznwPFFvwFbbBNBgbcNpQdNcBFQpb',\n",
              " 'mDnLWsPLvLMnnnmTzLzVCtlRRtjSljCZhDlhtqSq',\n",
              " 'fgWMHClGMWfgRWWWGCfmfgCSVQNTDFHTtddVQQDZNLDZtVVL',\n",
              " 'wSqbsvzpwpbpdFTNLQwLNTFN',\n",
              " 'zscjPnPqsJlmPJCJSC',\n",
              " 'GZSwQjGwGrCGwrTjdCTwdTBpqqlmNmVpNrNvplJqNNpl',\n",
              " 'zMfJnDcbRRDRFbzDFRLFBtqNmqqtNBmNBvNm',\n",
              " 'sHcJRRHzzfQTjjCjQjCH',\n",
              " 'wJCVVbJgCLCwGsMbbGTlsRWHsztZPZWtPrPrWrHzrz',\n",
              " 'DBqdvfqDBqFpWZFrtppZJp',\n",
              " 'djqNfQcjDQjMgbbwLjlJGn',\n",
              " 'TSwfZMfpQwcCCCCrbbCZ',\n",
              " 'PLJmGJnjqjrsCjMMVj',\n",
              " 'LnNNLLLnFFWmLFMGNMDgfRpDQSfwSfgQzBHwTS',\n",
              " 'CdjNCMmdCrVmCjJdVjFNMtMzhWwpGbpBhPZZZDbGPpDhpr',\n",
              " 'QSfHzlvgTQffSSHHclgfHnqPbPPPppBhpWDhwWvPhvbwwh',\n",
              " 'cQfQRgQnQsnsQSgHRQJsCFMsCjLzJJFjCdNC',\n",
              " 'ltLlJttmQdfVRhNmhB',\n",
              " 'gWWDrPSvCSWgMMMZBVBdTQPQZNZVPR',\n",
              " 'vCbwQzcQrCrLFHwJpHHGpp',\n",
              " 'VbRVvVHRbJVTzVLBVPtt',\n",
              " 'cSdgSZSZZFhnFcFwdDQcZZhgzpTlzLDzlWTvBWLztBtpLplT',\n",
              " 'hZZvdrcSZQZSSwncdHCqHmGHqJrCJqbNbq',\n",
              " 'lwWmsQlDbCZbVWZq',\n",
              " 'rRShhhhPjTsjTRvHhqfzqfqvBZZvBCZffC',\n",
              " 'scPThhRSjQmmNpplcg',\n",
              " 'FChtDTThDqZtjppjvgNvjl',\n",
              " 'LBwsVdVHLVvvpVGjjgjS',\n",
              " 'BbHLBfRcsHcBdMbdWJQPWFCQCZZhWrJPQp',\n",
              " 'zMtWCstzNrQLpbplFwQwhb',\n",
              " 'gDTDHGvvHVfVdGZVJGDGdnmbwmWFwfhpbnfjwwjpLl',\n",
              " 'GJcHVJdvZJVGZWHSSvTZMCzrzzRNSBtBNPBMqNBB',\n",
              " 'pLzZVVGGZmZVlmDsQglgsllc',\n",
              " 'WSvrjRjrMMFFnFjnrnrdjBRRgdsblQQPbpggsclNDDbPstDs',\n",
              " 'SMWRBrrrvSRBSSvWWWBTMTCqpZzLCCTCwJZwwzGZzqHL',\n",
              " 'TvfGwGZpPnSNgSSnGh',\n",
              " 'srLVHLcjsjVtHqjjrjFjcCqPBggqNQQnMqhgngnznNNB',\n",
              " 'VtdmPHLmtVHFLdmZWRJlWpWWWlmWfp',\n",
              " 'SbSbdTsrVrdhfSdDGJWGmNwWWPwTGP',\n",
              " 'BqlRpBMmllpmnpvvDJPZWPJwZcJgDD',\n",
              " 'FFRMCnRFtCMRlMplqMBRBppVbtzdrdhssrmHzVVSsVhVHz',\n",
              " 'dNrhhLsrshSmmRcPhm',\n",
              " 'WMCngCzCvzvMMpplQvzWlRBPcVStSmTSQbbVSPQmwm',\n",
              " 'MpzvWnllglJfqfMgsNdZHqNjdDsPHqqZ',\n",
              " 'rNvGZRsRcRRBtBCttB',\n",
              " 'DwPPQWnWWnPQnJlPhmTtBFBmqzhpmnFh',\n",
              " 'QwQQQlbPPMWwDdDwlVDJJPPdvdSjrjdrsgssLLsZLNBrNNNr',\n",
              " 'VjMMVzngnjQQfJDchZqGNqFPcg',\n",
              " 'SWBwTtWSFTHwFClHHmwBPcJJDhNGPJNPPhPPGhJt',\n",
              " 'CBvSBBBWHdmRTvRWRQFLQRnjnfLLzVbs',\n",
              " 'flSpvLlmZpCpZmVSBtlvHHjFHTdssZdjHFdTWdNh',\n",
              " 'RmQMQJRQJQmPgrzJrPcRQRJcWdNTGTGGFhGTdFhHThHGMTsF',\n",
              " 'RzJrqqcqPRqqJDDqttCpmtlwBpDflSLt',\n",
              " 'hBjPZbPBbWvTRnLRWntD',\n",
              " 'MNGQNsQwfzsdGfgTGfzQwwffmnCRDVmJLRLCvnvLDvJCDgRL',\n",
              " 'wTTdFldNHzTMljjFqphrBqhrZb',\n",
              " 'wDcMCbZbzPDcZDWQdrJLrQrZBLRBQr',\n",
              " 'FFSHStjtHgllgFdSNmlfFStBqRRssRsRJrLrjrrJBRVhLJ',\n",
              " 'fGggtfHtgWMwbCGdCT',\n",
              " 'RQrQDDbVGrRSfbVbGtmGtwHFWsCCzsJSJJHsJPJvWC',\n",
              " 'hphQnhZQNjlBBcMMpCsHwFjvvHWHWsFvjC',\n",
              " 'ppcnnBZqllTQfmrffbtGTDGt',\n",
              " 'dsDFsBZBhCFhshFrpBFnmLQmHmRgRbLqmmmRQDLm',\n",
              " 'PPBBNNNtGTwJNfTJffNttfLQgqLgHvHbqRwlgmblRvll',\n",
              " 'NSNTGTJTWPjGWMPSJJzrBSpzdFSddCFdncrs',\n",
              " 'bPzRlMPTzTMldJMnhswcjzfQVccQhc',\n",
              " 'HCCqNmNmQQmQssJn',\n",
              " 'pHptprtgRStTtMJt',\n",
              " 'nTmhrsPMsTfmHHGcSgtj',\n",
              " 'bJJwdlrJQLlvwlQDDwSbgffGVNjfgjNtVbcf',\n",
              " 'QlpDQFJdvdFqJdFpLvDFpLLnzZMnBMRRzMTqnrzqTRPznz',\n",
              " 'qRVRqBzgwqRpqRgVqQRPpQJJPrPhPGJnsGrCFdFJrZdG',\n",
              " 'ZvWDmMvmSvCndssrsJ',\n",
              " 'WcZcNWlcMjBQpzNTqVBp',\n",
              " 'DpLPZLDDlcgmDmhVgfgfWWRwhwwt',\n",
              " 'VrVMdbCrrBTjCMQQtMwQNSqMQW',\n",
              " 'VCBHdJHdvrrFsbsdrBJTdTzZcpmZGDGPlmzmlccFDZDn']"
            ]
          },
          "metadata": {},
          "execution_count": 62
        }
      ]
    }
  ]
}